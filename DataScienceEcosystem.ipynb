{
 "cells": [
  {
   "cell_type": "markdown",
   "id": "42c8427c-bc86-4e7b-a82c-005348ab596a",
   "metadata": {},
   "source": [
    "# Data Science Tools and Ecosystem"
   ]
  },
  {
   "cell_type": "markdown",
   "id": "1df58820-d3eb-4cde-ade8-9fe1f755e413",
   "metadata": {},
   "source": [
    "In this notebook, Data Science Tools and Ecosystem are summarized.\n"
   ]
  },
  {
   "cell_type": "markdown",
   "id": "d4e5b39e-e28c-4186-a32b-137898aa58d6",
   "metadata": {},
   "source": [
    "**Objectives:**\n",
    "- Python\n",
    "- Scala\n",
    "- R\n",
    "- Julia"
   ]
  },
  {
   "cell_type": "markdown",
   "id": "36dfbcc0-bbda-473e-ac0e-a0effeeb1824",
   "metadata": {},
   "source": [
    "Some of the popular languages that Data Scientists use are:\n",
    "\n",
    "1. Python\n",
    "2. Julia\n",
    "3. R"
   ]
  },
  {
   "cell_type": "markdown",
   "id": "4367087e-b6bf-4d45-825b-72c3d8bfcfc6",
   "metadata": {},
   "source": [
    "Some of the commonly used libraries used by Data Scientists include:\n",
    "\n",
    "1. NumPy\n",
    "2. Pandas\n",
    "3. Scikit-learn"
   ]
  },
  {
   "cell_type": "markdown",
   "id": "72ac54cb-6b06-49e1-a61d-95a5841742f2",
   "metadata": {},
   "source": [
    "| Data Science Tools |\n",
    "|--------------------|\n",
    "|  Python            |\n",
    "|  Jupyter            |\n",
    "|  R            |"
   ]
  },
  {
   "cell_type": "markdown",
   "id": "b1478bdb-14b5-49c4-9058-dbf6f10ab69c",
   "metadata": {
    "tags": []
   },
   "source": [
    "### Below are a few examples of evaluating arithmetic expressions in Python"
   ]
  },
  {
   "cell_type": "code",
   "execution_count": 1,
   "id": "cacdf095-a2eb-46fe-b0b6-1b9e499669a5",
   "metadata": {
    "tags": []
   },
   "outputs": [
    {
     "name": "stdout",
     "output_type": "stream",
     "text": [
      "8\n"
     ]
    }
   ],
   "source": [
    "result = 5 + 3\n",
    "print(result)"
   ]
  },
  {
   "cell_type": "markdown",
   "id": "cfd1a21a-ec76-438a-8bcf-25aafac69c59",
   "metadata": {},
   "source": [
    "# This a simple arithmetic expression to mutiply then add integers"
   ]
  },
  {
   "cell_type": "code",
   "execution_count": 2,
   "id": "d9135977-d5ed-4138-8a21-e8a42d98e291",
   "metadata": {
    "tags": []
   },
   "outputs": [
    {
     "data": {
      "text/plain": [
       "17"
      ]
     },
     "execution_count": 2,
     "metadata": {},
     "output_type": "execute_result"
    }
   ],
   "source": [
    "(3*4)+5"
   ]
  },
  {
   "cell_type": "markdown",
   "id": "4cce062e-f74e-4a99-8a59-23827455de45",
   "metadata": {},
   "source": [
    "## This will convert 200 minutes to hours by diving by 60"
   ]
  },
  {
   "cell_type": "code",
   "execution_count": 5,
   "id": "408925ff-2a0a-4ccc-8648-ae6600fd099d",
   "metadata": {
    "tags": []
   },
   "outputs": [
    {
     "name": "stdout",
     "output_type": "stream",
     "text": [
      "3.3333333333333335\n"
     ]
    }
   ],
   "source": [
    "number_of_hours = 200/60\n",
    "print(number_of_hours)"
   ]
  },
  {
   "cell_type": "markdown",
   "id": "afe05117-13ca-4158-b1a1-90e47fa36808",
   "metadata": {
    "tags": []
   },
   "source": [
    "## Author\n",
    "Akshat"
   ]
  }
 ],
 "metadata": {
  "kernelspec": {
   "display_name": "Python",
   "language": "python",
   "name": "conda-env-python-py"
  },
  "language_info": {
   "codemirror_mode": {
    "name": "ipython",
    "version": 3
   },
   "file_extension": ".py",
   "mimetype": "text/x-python",
   "name": "python",
   "nbconvert_exporter": "python",
   "pygments_lexer": "ipython3",
   "version": "3.7.12"
  }
 },
 "nbformat": 4,
 "nbformat_minor": 5
}
